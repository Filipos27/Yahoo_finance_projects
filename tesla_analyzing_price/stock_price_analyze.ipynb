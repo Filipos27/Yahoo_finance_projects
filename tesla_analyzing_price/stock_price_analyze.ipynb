{
 "cells": [
  {
   "cell_type": "markdown",
   "metadata": {},
   "source": [
    "# Tesla stock price analyze "
   ]
  },
  {
   "cell_type": "markdown",
   "metadata": {},
   "source": [
    "In this project we are going to analyze and visualize closing prices of Tesla company by month,weeks,days and hours."
   ]
  },
  {
   "cell_type": "code",
   "execution_count": 1,
   "metadata": {},
   "outputs": [],
   "source": [
    "#Importing libraries\n",
    "import yfinance as yf\n",
    "import pandas as pd\n",
    "import numpy as np\n",
    "import matplotlib.pyplot as plt\n",
    "%matplotlib inline"
   ]
  },
  {
   "cell_type": "code",
   "execution_count": 2,
   "metadata": {},
   "outputs": [
    {
     "name": "stdout",
     "output_type": "stream",
     "text": [
      "[*********************100%***********************]  1 of 1 completed\n"
     ]
    }
   ],
   "source": [
    "#Getting  Tesla data from yahoo finance\n",
    "df = yf.download(\"TSLA\", start=\"2020-01-01\", end=\"2021-01-01\")"
   ]
  },
  {
   "cell_type": "code",
   "execution_count": 3,
   "metadata": {},
   "outputs": [
    {
     "data": {
      "text/html": [
       "<div>\n",
       "<style scoped>\n",
       "    .dataframe tbody tr th:only-of-type {\n",
       "        vertical-align: middle;\n",
       "    }\n",
       "\n",
       "    .dataframe tbody tr th {\n",
       "        vertical-align: top;\n",
       "    }\n",
       "\n",
       "    .dataframe thead th {\n",
       "        text-align: right;\n",
       "    }\n",
       "</style>\n",
       "<table border=\"1\" class=\"dataframe\">\n",
       "  <thead>\n",
       "    <tr style=\"text-align: right;\">\n",
       "      <th></th>\n",
       "      <th>Open</th>\n",
       "      <th>High</th>\n",
       "      <th>Low</th>\n",
       "      <th>Close</th>\n",
       "      <th>Adj Close</th>\n",
       "      <th>Volume</th>\n",
       "    </tr>\n",
       "    <tr>\n",
       "      <th>Date</th>\n",
       "      <th></th>\n",
       "      <th></th>\n",
       "      <th></th>\n",
       "      <th></th>\n",
       "      <th></th>\n",
       "      <th></th>\n",
       "    </tr>\n",
       "  </thead>\n",
       "  <tbody>\n",
       "    <tr>\n",
       "      <th>2019-12-31</th>\n",
       "      <td>81.000000</td>\n",
       "      <td>84.258003</td>\n",
       "      <td>80.416000</td>\n",
       "      <td>83.666000</td>\n",
       "      <td>83.666000</td>\n",
       "      <td>51428500</td>\n",
       "    </tr>\n",
       "    <tr>\n",
       "      <th>2020-01-02</th>\n",
       "      <td>84.900002</td>\n",
       "      <td>86.139999</td>\n",
       "      <td>84.342003</td>\n",
       "      <td>86.052002</td>\n",
       "      <td>86.052002</td>\n",
       "      <td>47660500</td>\n",
       "    </tr>\n",
       "    <tr>\n",
       "      <th>2020-01-03</th>\n",
       "      <td>88.099998</td>\n",
       "      <td>90.800003</td>\n",
       "      <td>87.384003</td>\n",
       "      <td>88.601997</td>\n",
       "      <td>88.601997</td>\n",
       "      <td>88892500</td>\n",
       "    </tr>\n",
       "    <tr>\n",
       "      <th>2020-01-06</th>\n",
       "      <td>88.094002</td>\n",
       "      <td>90.311996</td>\n",
       "      <td>88.000000</td>\n",
       "      <td>90.307999</td>\n",
       "      <td>90.307999</td>\n",
       "      <td>50665000</td>\n",
       "    </tr>\n",
       "    <tr>\n",
       "      <th>2020-01-07</th>\n",
       "      <td>92.279999</td>\n",
       "      <td>94.325996</td>\n",
       "      <td>90.671997</td>\n",
       "      <td>93.811996</td>\n",
       "      <td>93.811996</td>\n",
       "      <td>89410500</td>\n",
       "    </tr>\n",
       "    <tr>\n",
       "      <th>2020-01-08</th>\n",
       "      <td>94.739998</td>\n",
       "      <td>99.697998</td>\n",
       "      <td>93.646004</td>\n",
       "      <td>98.428001</td>\n",
       "      <td>98.428001</td>\n",
       "      <td>155721500</td>\n",
       "    </tr>\n",
       "    <tr>\n",
       "      <th>2020-01-09</th>\n",
       "      <td>99.419998</td>\n",
       "      <td>99.760002</td>\n",
       "      <td>94.573997</td>\n",
       "      <td>96.267998</td>\n",
       "      <td>96.267998</td>\n",
       "      <td>142202000</td>\n",
       "    </tr>\n",
       "    <tr>\n",
       "      <th>2020-01-10</th>\n",
       "      <td>96.358002</td>\n",
       "      <td>96.987999</td>\n",
       "      <td>94.739998</td>\n",
       "      <td>95.629997</td>\n",
       "      <td>95.629997</td>\n",
       "      <td>64797500</td>\n",
       "    </tr>\n",
       "    <tr>\n",
       "      <th>2020-01-13</th>\n",
       "      <td>98.699997</td>\n",
       "      <td>105.125999</td>\n",
       "      <td>98.400002</td>\n",
       "      <td>104.972000</td>\n",
       "      <td>104.972000</td>\n",
       "      <td>132588000</td>\n",
       "    </tr>\n",
       "    <tr>\n",
       "      <th>2020-01-14</th>\n",
       "      <td>108.851997</td>\n",
       "      <td>109.482002</td>\n",
       "      <td>104.980003</td>\n",
       "      <td>107.584000</td>\n",
       "      <td>107.584000</td>\n",
       "      <td>144981000</td>\n",
       "    </tr>\n",
       "  </tbody>\n",
       "</table>\n",
       "</div>"
      ],
      "text/plain": [
       "                  Open        High         Low       Close   Adj Close  \\\n",
       "Date                                                                     \n",
       "2019-12-31   81.000000   84.258003   80.416000   83.666000   83.666000   \n",
       "2020-01-02   84.900002   86.139999   84.342003   86.052002   86.052002   \n",
       "2020-01-03   88.099998   90.800003   87.384003   88.601997   88.601997   \n",
       "2020-01-06   88.094002   90.311996   88.000000   90.307999   90.307999   \n",
       "2020-01-07   92.279999   94.325996   90.671997   93.811996   93.811996   \n",
       "2020-01-08   94.739998   99.697998   93.646004   98.428001   98.428001   \n",
       "2020-01-09   99.419998   99.760002   94.573997   96.267998   96.267998   \n",
       "2020-01-10   96.358002   96.987999   94.739998   95.629997   95.629997   \n",
       "2020-01-13   98.699997  105.125999   98.400002  104.972000  104.972000   \n",
       "2020-01-14  108.851997  109.482002  104.980003  107.584000  107.584000   \n",
       "\n",
       "               Volume  \n",
       "Date                   \n",
       "2019-12-31   51428500  \n",
       "2020-01-02   47660500  \n",
       "2020-01-03   88892500  \n",
       "2020-01-06   50665000  \n",
       "2020-01-07   89410500  \n",
       "2020-01-08  155721500  \n",
       "2020-01-09  142202000  \n",
       "2020-01-10   64797500  \n",
       "2020-01-13  132588000  \n",
       "2020-01-14  144981000  "
      ]
     },
     "execution_count": 3,
     "metadata": {},
     "output_type": "execute_result"
    }
   ],
   "source": [
    "df.head(10)"
   ]
  },
  {
   "cell_type": "code",
   "execution_count": 4,
   "metadata": {},
   "outputs": [
    {
     "data": {
      "text/plain": [
       "(254, 6)"
      ]
     },
     "execution_count": 4,
     "metadata": {},
     "output_type": "execute_result"
    }
   ],
   "source": [
    "df.shape"
   ]
  },
  {
   "cell_type": "markdown",
   "metadata": {},
   "source": [
    "Column information:\n",
    "- Open and Close represent - the starting and final price at which the stock is traded on a particular day\n",
    "- High and Low - represent the maximum and minimum price of the share for the day\n",
    "- Volume -  is the number of shares bought or sold in the day"
   ]
  },
  {
   "cell_type": "markdown",
   "metadata": {},
   "source": [
    "## Data visualization"
   ]
  },
  {
   "cell_type": "code",
   "execution_count": 5,
   "metadata": {},
   "outputs": [
    {
     "data": {
      "image/png": "[encoded data removed]",
      "text/plain": [
       "<Figure size 720x432 with 1 Axes>"
      ]
     },
     "metadata": {
      "needs_background": "light"
     },
     "output_type": "display_data"
    }
   ],
   "source": [
    "#ploting closing price by month\n",
    "plt.figure(figsize=(10,6))\n",
    "plt.title(\"Close price history\")\n",
    "plt.plot(df[\"Close\"])\n",
    "plt.xlabel(\"Date\")\n",
    "plt.ylabel(\"Close Price USD\")\n",
    "plt.show()"
   ]
  },
  {
   "cell_type": "code",
   "execution_count": 6,
   "metadata": {},
   "outputs": [
    {
     "data": {
      "text/html": [
       "<div>\n",
       "<style scoped>\n",
       "    .dataframe tbody tr th:only-of-type {\n",
       "        vertical-align: middle;\n",
       "    }\n",
       "\n",
       "    .dataframe tbody tr th {\n",
       "        vertical-align: top;\n",
       "    }\n",
       "\n",
       "    .dataframe thead th {\n",
       "        text-align: right;\n",
       "    }\n",
       "</style>\n",
       "<table border=\"1\" class=\"dataframe\">\n",
       "  <thead>\n",
       "    <tr style=\"text-align: right;\">\n",
       "      <th></th>\n",
       "      <th>Open</th>\n",
       "      <th>High</th>\n",
       "      <th>Low</th>\n",
       "      <th>Close</th>\n",
       "      <th>Adj Close</th>\n",
       "      <th>Volume</th>\n",
       "    </tr>\n",
       "    <tr>\n",
       "      <th>Date</th>\n",
       "      <th></th>\n",
       "      <th></th>\n",
       "      <th></th>\n",
       "      <th></th>\n",
       "      <th></th>\n",
       "      <th></th>\n",
       "    </tr>\n",
       "  </thead>\n",
       "  <tbody>\n",
       "    <tr>\n",
       "      <th>2020-12-01</th>\n",
       "      <td>597.590027</td>\n",
       "      <td>597.849976</td>\n",
       "      <td>572.049988</td>\n",
       "      <td>584.760010</td>\n",
       "      <td>584.760010</td>\n",
       "      <td>40382800</td>\n",
       "    </tr>\n",
       "    <tr>\n",
       "      <th>2020-12-02</th>\n",
       "      <td>556.440002</td>\n",
       "      <td>571.539978</td>\n",
       "      <td>541.210022</td>\n",
       "      <td>568.820007</td>\n",
       "      <td>568.820007</td>\n",
       "      <td>47775700</td>\n",
       "    </tr>\n",
       "    <tr>\n",
       "      <th>2020-12-03</th>\n",
       "      <td>590.020020</td>\n",
       "      <td>598.969971</td>\n",
       "      <td>582.429993</td>\n",
       "      <td>593.380005</td>\n",
       "      <td>593.380005</td>\n",
       "      <td>42552000</td>\n",
       "    </tr>\n",
       "    <tr>\n",
       "      <th>2020-12-04</th>\n",
       "      <td>591.010010</td>\n",
       "      <td>599.039978</td>\n",
       "      <td>585.500000</td>\n",
       "      <td>599.039978</td>\n",
       "      <td>599.039978</td>\n",
       "      <td>29401300</td>\n",
       "    </tr>\n",
       "    <tr>\n",
       "      <th>2020-12-07</th>\n",
       "      <td>604.919983</td>\n",
       "      <td>648.789978</td>\n",
       "      <td>603.049988</td>\n",
       "      <td>641.760010</td>\n",
       "      <td>641.760010</td>\n",
       "      <td>56309700</td>\n",
       "    </tr>\n",
       "  </tbody>\n",
       "</table>\n",
       "</div>"
      ],
      "text/plain": [
       "                  Open        High         Low       Close   Adj Close  \\\n",
       "Date                                                                     \n",
       "2020-12-01  597.590027  597.849976  572.049988  584.760010  584.760010   \n",
       "2020-12-02  556.440002  571.539978  541.210022  568.820007  568.820007   \n",
       "2020-12-03  590.020020  598.969971  582.429993  593.380005  593.380005   \n",
       "2020-12-04  591.010010  599.039978  585.500000  599.039978  599.039978   \n",
       "2020-12-07  604.919983  648.789978  603.049988  641.760010  641.760010   \n",
       "\n",
       "              Volume  \n",
       "Date                  \n",
       "2020-12-01  40382800  \n",
       "2020-12-02  47775700  \n",
       "2020-12-03  42552000  \n",
       "2020-12-04  29401300  \n",
       "2020-12-07  56309700  "
      ]
     },
     "execution_count": 6,
     "metadata": {},
     "output_type": "execute_result"
    }
   ],
   "source": [
    "#Closing prices in december\n",
    "december=df[\"12-01-2020\":\"12-31-2020\"]\n",
    "december.head()"
   ]
  },
  {
   "cell_type": "code",
   "execution_count": 7,
   "metadata": {},
   "outputs": [
    {
     "data": {
      "text/plain": [
       "638.8186395818537"
      ]
     },
     "execution_count": 7,
     "metadata": {},
     "output_type": "execute_result"
    }
   ],
   "source": [
    "#Average closing price in december \n",
    "december.Close.mean()"
   ]
  },
  {
   "cell_type": "code",
   "execution_count": 8,
   "metadata": {},
   "outputs": [
    {
     "data": {
      "image/png": "[encoded data removed]",
      "text/plain": [
       "<Figure size 936x504 with 1 Axes>"
      ]
     },
     "metadata": {
      "needs_background": "light"
     },
     "output_type": "display_data"
    }
   ],
   "source": [
    "#ploting closing price by day in december\n",
    "plt.figure(figsize=(13,7))\n",
    "plt.title(\"Close price in december 2020\")\n",
    "plt.plot(december.Close)\n",
    "plt.xlabel(\"Date\")\n",
    "plt.ylabel(\"Close Price USD\")\n",
    "plt.show()\n"
   ]
  },
  {
   "cell_type": "markdown",
   "metadata": {},
   "source": [
    "We are missing closing prices in weekends and we can assume that at the weekend closing prices are the same as the last day before weekend (friday) so we will add closing prices at the weekends with function \"asfreq\"."
   ]
  },
  {
   "cell_type": "code",
   "execution_count": 9,
   "metadata": {},
   "outputs": [
    {
     "data": {
      "text/html": [
       "<div>\n",
       "<style scoped>\n",
       "    .dataframe tbody tr th:only-of-type {\n",
       "        vertical-align: middle;\n",
       "    }\n",
       "\n",
       "    .dataframe tbody tr th {\n",
       "        vertical-align: top;\n",
       "    }\n",
       "\n",
       "    .dataframe thead th {\n",
       "        text-align: right;\n",
       "    }\n",
       "</style>\n",
       "<table border=\"1\" class=\"dataframe\">\n",
       "  <thead>\n",
       "    <tr style=\"text-align: right;\">\n",
       "      <th></th>\n",
       "      <th>Open</th>\n",
       "      <th>High</th>\n",
       "      <th>Low</th>\n",
       "      <th>Close</th>\n",
       "      <th>Adj Close</th>\n",
       "      <th>Volume</th>\n",
       "    </tr>\n",
       "    <tr>\n",
       "      <th>Date</th>\n",
       "      <th></th>\n",
       "      <th></th>\n",
       "      <th></th>\n",
       "      <th></th>\n",
       "      <th></th>\n",
       "      <th></th>\n",
       "    </tr>\n",
       "  </thead>\n",
       "  <tbody>\n",
       "    <tr>\n",
       "      <th>2019-12-31</th>\n",
       "      <td>81.000000</td>\n",
       "      <td>84.258003</td>\n",
       "      <td>80.416000</td>\n",
       "      <td>83.666000</td>\n",
       "      <td>83.666000</td>\n",
       "      <td>51428500</td>\n",
       "    </tr>\n",
       "    <tr>\n",
       "      <th>2020-01-01</th>\n",
       "      <td>81.000000</td>\n",
       "      <td>84.258003</td>\n",
       "      <td>80.416000</td>\n",
       "      <td>83.666000</td>\n",
       "      <td>83.666000</td>\n",
       "      <td>51428500</td>\n",
       "    </tr>\n",
       "    <tr>\n",
       "      <th>2020-01-02</th>\n",
       "      <td>84.900002</td>\n",
       "      <td>86.139999</td>\n",
       "      <td>84.342003</td>\n",
       "      <td>86.052002</td>\n",
       "      <td>86.052002</td>\n",
       "      <td>47660500</td>\n",
       "    </tr>\n",
       "    <tr>\n",
       "      <th>2020-01-03</th>\n",
       "      <td>88.099998</td>\n",
       "      <td>90.800003</td>\n",
       "      <td>87.384003</td>\n",
       "      <td>88.601997</td>\n",
       "      <td>88.601997</td>\n",
       "      <td>88892500</td>\n",
       "    </tr>\n",
       "    <tr>\n",
       "      <th>2020-01-04</th>\n",
       "      <td>88.099998</td>\n",
       "      <td>90.800003</td>\n",
       "      <td>87.384003</td>\n",
       "      <td>88.601997</td>\n",
       "      <td>88.601997</td>\n",
       "      <td>88892500</td>\n",
       "    </tr>\n",
       "  </tbody>\n",
       "</table>\n",
       "</div>"
      ],
      "text/plain": [
       "                 Open       High        Low      Close  Adj Close    Volume\n",
       "Date                                                                       \n",
       "2019-12-31  81.000000  84.258003  80.416000  83.666000  83.666000  51428500\n",
       "2020-01-01  81.000000  84.258003  80.416000  83.666000  83.666000  51428500\n",
       "2020-01-02  84.900002  86.139999  84.342003  86.052002  86.052002  47660500\n",
       "2020-01-03  88.099998  90.800003  87.384003  88.601997  88.601997  88892500\n",
       "2020-01-04  88.099998  90.800003  87.384003  88.601997  88.601997  88892500"
      ]
     },
     "execution_count": 9,
     "metadata": {},
     "output_type": "execute_result"
    }
   ],
   "source": [
    "# Adding closing prices by days (D) on weekends (\"pad\")\n",
    "df2=df.asfreq(\"D\",\"pad\")\n",
    "df2.head()"
   ]
  },
  {
   "cell_type": "markdown",
   "metadata": {},
   "source": [
    "We can now see that we have closing prices on the weekends also."
   ]
  },
  {
   "cell_type": "code",
   "execution_count": 10,
   "metadata": {
    "scrolled": false
   },
   "outputs": [
    {
     "data": {
      "text/html": [
       "<div>\n",
       "<style scoped>\n",
       "    .dataframe tbody tr th:only-of-type {\n",
       "        vertical-align: middle;\n",
       "    }\n",
       "\n",
       "    .dataframe tbody tr th {\n",
       "        vertical-align: top;\n",
       "    }\n",
       "\n",
       "    .dataframe thead th {\n",
       "        text-align: right;\n",
       "    }\n",
       "</style>\n",
       "<table border=\"1\" class=\"dataframe\">\n",
       "  <thead>\n",
       "    <tr style=\"text-align: right;\">\n",
       "      <th></th>\n",
       "      <th>Open</th>\n",
       "      <th>High</th>\n",
       "      <th>Low</th>\n",
       "      <th>Close</th>\n",
       "      <th>Adj Close</th>\n",
       "      <th>Volume</th>\n",
       "    </tr>\n",
       "    <tr>\n",
       "      <th>Date</th>\n",
       "      <th></th>\n",
       "      <th></th>\n",
       "      <th></th>\n",
       "      <th></th>\n",
       "      <th></th>\n",
       "      <th></th>\n",
       "    </tr>\n",
       "  </thead>\n",
       "  <tbody>\n",
       "    <tr>\n",
       "      <th>2020-01-05</th>\n",
       "      <td>88.099998</td>\n",
       "      <td>90.800003</td>\n",
       "      <td>87.384003</td>\n",
       "      <td>88.601997</td>\n",
       "      <td>88.601997</td>\n",
       "      <td>88892500</td>\n",
       "    </tr>\n",
       "    <tr>\n",
       "      <th>2020-01-12</th>\n",
       "      <td>96.358002</td>\n",
       "      <td>96.987999</td>\n",
       "      <td>94.739998</td>\n",
       "      <td>95.629997</td>\n",
       "      <td>95.629997</td>\n",
       "      <td>64797500</td>\n",
       "    </tr>\n",
       "    <tr>\n",
       "      <th>2020-01-19</th>\n",
       "      <td>101.522003</td>\n",
       "      <td>103.134003</td>\n",
       "      <td>100.632004</td>\n",
       "      <td>102.099998</td>\n",
       "      <td>102.099998</td>\n",
       "      <td>68145500</td>\n",
       "    </tr>\n",
       "    <tr>\n",
       "      <th>2020-01-26</th>\n",
       "      <td>114.125999</td>\n",
       "      <td>114.772003</td>\n",
       "      <td>110.851997</td>\n",
       "      <td>112.963997</td>\n",
       "      <td>112.963997</td>\n",
       "      <td>71768000</td>\n",
       "    </tr>\n",
       "    <tr>\n",
       "      <th>2020-02-02</th>\n",
       "      <td>128.000000</td>\n",
       "      <td>130.600006</td>\n",
       "      <td>126.503998</td>\n",
       "      <td>130.113998</td>\n",
       "      <td>130.113998</td>\n",
       "      <td>78596500</td>\n",
       "    </tr>\n",
       "    <tr>\n",
       "      <th>2020-02-09</th>\n",
       "      <td>146.110001</td>\n",
       "      <td>153.949997</td>\n",
       "      <td>146.000000</td>\n",
       "      <td>149.613998</td>\n",
       "      <td>149.613998</td>\n",
       "      <td>85317500</td>\n",
       "    </tr>\n",
       "    <tr>\n",
       "      <th>2020-02-16</th>\n",
       "      <td>157.444000</td>\n",
       "      <td>162.593994</td>\n",
       "      <td>157.100006</td>\n",
       "      <td>160.005997</td>\n",
       "      <td>160.005997</td>\n",
       "      <td>78468500</td>\n",
       "    </tr>\n",
       "    <tr>\n",
       "      <th>2020-02-23</th>\n",
       "      <td>181.395996</td>\n",
       "      <td>182.612000</td>\n",
       "      <td>176.089996</td>\n",
       "      <td>180.199997</td>\n",
       "      <td>180.199997</td>\n",
       "      <td>71574000</td>\n",
       "    </tr>\n",
       "    <tr>\n",
       "      <th>2020-03-01</th>\n",
       "      <td>125.940002</td>\n",
       "      <td>138.104004</td>\n",
       "      <td>122.304001</td>\n",
       "      <td>133.598007</td>\n",
       "      <td>133.598007</td>\n",
       "      <td>122821000</td>\n",
       "    </tr>\n",
       "    <tr>\n",
       "      <th>2020-03-08</th>\n",
       "      <td>138.000000</td>\n",
       "      <td>141.399994</td>\n",
       "      <td>136.854004</td>\n",
       "      <td>140.695999</td>\n",
       "      <td>140.695999</td>\n",
       "      <td>63314500</td>\n",
       "    </tr>\n",
       "  </tbody>\n",
       "</table>\n",
       "</div>"
      ],
      "text/plain": [
       "                  Open        High         Low       Close   Adj Close  \\\n",
       "Date                                                                     \n",
       "2020-01-05   88.099998   90.800003   87.384003   88.601997   88.601997   \n",
       "2020-01-12   96.358002   96.987999   94.739998   95.629997   95.629997   \n",
       "2020-01-19  101.522003  103.134003  100.632004  102.099998  102.099998   \n",
       "2020-01-26  114.125999  114.772003  110.851997  112.963997  112.963997   \n",
       "2020-02-02  128.000000  130.600006  126.503998  130.113998  130.113998   \n",
       "2020-02-09  146.110001  153.949997  146.000000  149.613998  149.613998   \n",
       "2020-02-16  157.444000  162.593994  157.100006  160.005997  160.005997   \n",
       "2020-02-23  181.395996  182.612000  176.089996  180.199997  180.199997   \n",
       "2020-03-01  125.940002  138.104004  122.304001  133.598007  133.598007   \n",
       "2020-03-08  138.000000  141.399994  136.854004  140.695999  140.695999   \n",
       "\n",
       "               Volume  \n",
       "Date                   \n",
       "2020-01-05   88892500  \n",
       "2020-01-12   64797500  \n",
       "2020-01-19   68145500  \n",
       "2020-01-26   71768000  \n",
       "2020-02-02   78596500  \n",
       "2020-02-09   85317500  \n",
       "2020-02-16   78468500  \n",
       "2020-02-23   71574000  \n",
       "2020-03-01  122821000  \n",
       "2020-03-08   63314500  "
      ]
     },
     "execution_count": 10,
     "metadata": {},
     "output_type": "execute_result"
    }
   ],
   "source": [
    "# Adding weekly closing prices \n",
    "weekly=df2.asfreq(\"W\",\"pad\")\n",
    "weekly.head(10)"
   ]
  },
  {
   "cell_type": "code",
   "execution_count": 29,
   "metadata": {},
   "outputs": [
    {
     "data": {
      "image/png": "[encoded data removed]",
      "text/plain": [
       "<Figure size 936x504 with 1 Axes>"
      ]
     },
     "metadata": {
      "needs_background": "light"
     },
     "output_type": "display_data"
    }
   ],
   "source": [
    "#ploting closing price by weeks\n",
    "plt.figure(figsize=(13,7))\n",
    "plt.title(\" Weekly closing prices in 2020\")\n",
    "plt.plot(weekly.Close)\n",
    "plt.xlabel(\"Date\")\n",
    "plt.ylabel(\"Close Price USD\")\n",
    "plt.show()"
   ]
  },
  {
   "cell_type": "code",
   "execution_count": 30,
   "metadata": {
    "scrolled": true
   },
   "outputs": [
    {
     "data": {
      "text/html": [
       "<div>\n",
       "<style scoped>\n",
       "    .dataframe tbody tr th:only-of-type {\n",
       "        vertical-align: middle;\n",
       "    }\n",
       "\n",
       "    .dataframe tbody tr th {\n",
       "        vertical-align: top;\n",
       "    }\n",
       "\n",
       "    .dataframe thead th {\n",
       "        text-align: right;\n",
       "    }\n",
       "</style>\n",
       "<table border=\"1\" class=\"dataframe\">\n",
       "  <thead>\n",
       "    <tr style=\"text-align: right;\">\n",
       "      <th></th>\n",
       "      <th>Open</th>\n",
       "      <th>High</th>\n",
       "      <th>Low</th>\n",
       "      <th>Close</th>\n",
       "      <th>Adj Close</th>\n",
       "      <th>Volume</th>\n",
       "    </tr>\n",
       "    <tr>\n",
       "      <th>Date</th>\n",
       "      <th></th>\n",
       "      <th></th>\n",
       "      <th></th>\n",
       "      <th></th>\n",
       "      <th></th>\n",
       "      <th></th>\n",
       "    </tr>\n",
       "  </thead>\n",
       "  <tbody>\n",
       "    <tr>\n",
       "      <th>2020-06-07</th>\n",
       "      <td>175.567993</td>\n",
       "      <td>177.304001</td>\n",
       "      <td>173.240005</td>\n",
       "      <td>177.132004</td>\n",
       "      <td>177.132004</td>\n",
       "      <td>39059500</td>\n",
       "    </tr>\n",
       "    <tr>\n",
       "      <th>2020-06-14</th>\n",
       "      <td>196.000000</td>\n",
       "      <td>197.595993</td>\n",
       "      <td>182.520004</td>\n",
       "      <td>187.056000</td>\n",
       "      <td>187.056000</td>\n",
       "      <td>83817000</td>\n",
       "    </tr>\n",
       "    <tr>\n",
       "      <th>2020-06-21</th>\n",
       "      <td>202.556000</td>\n",
       "      <td>203.194000</td>\n",
       "      <td>198.268005</td>\n",
       "      <td>200.179993</td>\n",
       "      <td>200.179993</td>\n",
       "      <td>43398500</td>\n",
       "    </tr>\n",
       "    <tr>\n",
       "      <th>2020-06-28</th>\n",
       "      <td>198.955994</td>\n",
       "      <td>199.000000</td>\n",
       "      <td>190.973999</td>\n",
       "      <td>191.947998</td>\n",
       "      <td>191.947998</td>\n",
       "      <td>44274500</td>\n",
       "    </tr>\n",
       "    <tr>\n",
       "      <th>2020-07-05</th>\n",
       "      <td>244.296005</td>\n",
       "      <td>245.600006</td>\n",
       "      <td>237.119995</td>\n",
       "      <td>241.731995</td>\n",
       "      <td>241.731995</td>\n",
       "      <td>86250500</td>\n",
       "    </tr>\n",
       "    <tr>\n",
       "      <th>2020-07-12</th>\n",
       "      <td>279.200012</td>\n",
       "      <td>309.783997</td>\n",
       "      <td>275.201996</td>\n",
       "      <td>308.929993</td>\n",
       "      <td>308.929993</td>\n",
       "      <td>116688000</td>\n",
       "    </tr>\n",
       "    <tr>\n",
       "      <th>2020-07-19</th>\n",
       "      <td>302.690002</td>\n",
       "      <td>307.502014</td>\n",
       "      <td>298.000000</td>\n",
       "      <td>300.167999</td>\n",
       "      <td>300.167999</td>\n",
       "      <td>46650000</td>\n",
       "    </tr>\n",
       "    <tr>\n",
       "      <th>2020-07-26</th>\n",
       "      <td>283.201996</td>\n",
       "      <td>293.000000</td>\n",
       "      <td>273.308014</td>\n",
       "      <td>283.399994</td>\n",
       "      <td>283.399994</td>\n",
       "      <td>96983000</td>\n",
       "    </tr>\n",
       "    <tr>\n",
       "      <th>2020-08-02</th>\n",
       "      <td>303.000000</td>\n",
       "      <td>303.410004</td>\n",
       "      <td>284.196014</td>\n",
       "      <td>286.152008</td>\n",
       "      <td>286.152008</td>\n",
       "      <td>61235000</td>\n",
       "    </tr>\n",
       "    <tr>\n",
       "      <th>2020-08-09</th>\n",
       "      <td>299.907990</td>\n",
       "      <td>299.950012</td>\n",
       "      <td>283.002014</td>\n",
       "      <td>290.541992</td>\n",
       "      <td>290.541992</td>\n",
       "      <td>44482000</td>\n",
       "    </tr>\n",
       "  </tbody>\n",
       "</table>\n",
       "</div>"
      ],
      "text/plain": [
       "                  Open        High         Low       Close   Adj Close  \\\n",
       "Date                                                                     \n",
       "2020-06-07  175.567993  177.304001  173.240005  177.132004  177.132004   \n",
       "2020-06-14  196.000000  197.595993  182.520004  187.056000  187.056000   \n",
       "2020-06-21  202.556000  203.194000  198.268005  200.179993  200.179993   \n",
       "2020-06-28  198.955994  199.000000  190.973999  191.947998  191.947998   \n",
       "2020-07-05  244.296005  245.600006  237.119995  241.731995  241.731995   \n",
       "2020-07-12  279.200012  309.783997  275.201996  308.929993  308.929993   \n",
       "2020-07-19  302.690002  307.502014  298.000000  300.167999  300.167999   \n",
       "2020-07-26  283.201996  293.000000  273.308014  283.399994  283.399994   \n",
       "2020-08-02  303.000000  303.410004  284.196014  286.152008  286.152008   \n",
       "2020-08-09  299.907990  299.950012  283.002014  290.541992  290.541992   \n",
       "\n",
       "               Volume  \n",
       "Date                   \n",
       "2020-06-07   39059500  \n",
       "2020-06-14   83817000  \n",
       "2020-06-21   43398500  \n",
       "2020-06-28   44274500  \n",
       "2020-07-05   86250500  \n",
       "2020-07-12  116688000  \n",
       "2020-07-19   46650000  \n",
       "2020-07-26   96983000  \n",
       "2020-08-02   61235000  \n",
       "2020-08-09   44482000  "
      ]
     },
     "execution_count": 30,
     "metadata": {},
     "output_type": "execute_result"
    }
   ],
   "source": [
    "#Closing prices from june to december 2020\n",
    "june_dec=weekly[\"06-01-2020\":\"12-31-2020\"]\n",
    "june_dec.head(10)"
   ]
  },
  {
   "cell_type": "code",
   "execution_count": 31,
   "metadata": {
    "scrolled": true
   },
   "outputs": [
    {
     "data": {
      "image/png": "[encoded data removed]",
      "text/plain": [
       "<Figure size 720x360 with 1 Axes>"
      ]
     },
     "metadata": {
      "needs_background": "light"
     },
     "output_type": "display_data"
    }
   ],
   "source": [
    "#ploting closing price by weeks from june to december\n",
    "plt.figure(figsize=(10,5))\n",
    "plt.title(\" Weekly close prices from june to december 2020\")\n",
    "plt.plot(june_dec.Close)\n",
    "plt.xlabel(\"Date\")\n",
    "plt.ylabel(\"Close Price USD\")\n",
    "plt.show()"
   ]
  },
  {
   "cell_type": "code",
   "execution_count": 13,
   "metadata": {},
   "outputs": [
    {
     "data": {
      "text/plain": [
       "395.58793284098306"
      ]
     },
     "execution_count": 13,
     "metadata": {},
     "output_type": "execute_result"
    }
   ],
   "source": [
    "#Average weekly closing prices from june to to december 2020\n",
    "june_dec.Close.mean()"
   ]
  },
  {
   "cell_type": "code",
   "execution_count": 32,
   "metadata": {
    "scrolled": true
   },
   "outputs": [
    {
     "data": {
      "text/html": [
       "<div>\n",
       "<style scoped>\n",
       "    .dataframe tbody tr th:only-of-type {\n",
       "        vertical-align: middle;\n",
       "    }\n",
       "\n",
       "    .dataframe tbody tr th {\n",
       "        vertical-align: top;\n",
       "    }\n",
       "\n",
       "    .dataframe thead th {\n",
       "        text-align: right;\n",
       "    }\n",
       "</style>\n",
       "<table border=\"1\" class=\"dataframe\">\n",
       "  <thead>\n",
       "    <tr style=\"text-align: right;\">\n",
       "      <th></th>\n",
       "      <th>Open</th>\n",
       "      <th>High</th>\n",
       "      <th>Low</th>\n",
       "      <th>Close</th>\n",
       "      <th>Adj Close</th>\n",
       "      <th>Volume</th>\n",
       "    </tr>\n",
       "    <tr>\n",
       "      <th>Date</th>\n",
       "      <th></th>\n",
       "      <th></th>\n",
       "      <th></th>\n",
       "      <th></th>\n",
       "      <th></th>\n",
       "      <th></th>\n",
       "    </tr>\n",
       "  </thead>\n",
       "  <tbody>\n",
       "    <tr>\n",
       "      <th>2019-12-31 00:00:00</th>\n",
       "      <td>81.0</td>\n",
       "      <td>84.258003</td>\n",
       "      <td>80.416</td>\n",
       "      <td>83.666</td>\n",
       "      <td>83.666</td>\n",
       "      <td>51428500</td>\n",
       "    </tr>\n",
       "    <tr>\n",
       "      <th>2019-12-31 01:00:00</th>\n",
       "      <td>81.0</td>\n",
       "      <td>84.258003</td>\n",
       "      <td>80.416</td>\n",
       "      <td>83.666</td>\n",
       "      <td>83.666</td>\n",
       "      <td>51428500</td>\n",
       "    </tr>\n",
       "    <tr>\n",
       "      <th>2019-12-31 02:00:00</th>\n",
       "      <td>81.0</td>\n",
       "      <td>84.258003</td>\n",
       "      <td>80.416</td>\n",
       "      <td>83.666</td>\n",
       "      <td>83.666</td>\n",
       "      <td>51428500</td>\n",
       "    </tr>\n",
       "    <tr>\n",
       "      <th>2019-12-31 03:00:00</th>\n",
       "      <td>81.0</td>\n",
       "      <td>84.258003</td>\n",
       "      <td>80.416</td>\n",
       "      <td>83.666</td>\n",
       "      <td>83.666</td>\n",
       "      <td>51428500</td>\n",
       "    </tr>\n",
       "    <tr>\n",
       "      <th>2019-12-31 04:00:00</th>\n",
       "      <td>81.0</td>\n",
       "      <td>84.258003</td>\n",
       "      <td>80.416</td>\n",
       "      <td>83.666</td>\n",
       "      <td>83.666</td>\n",
       "      <td>51428500</td>\n",
       "    </tr>\n",
       "    <tr>\n",
       "      <th>2019-12-31 05:00:00</th>\n",
       "      <td>81.0</td>\n",
       "      <td>84.258003</td>\n",
       "      <td>80.416</td>\n",
       "      <td>83.666</td>\n",
       "      <td>83.666</td>\n",
       "      <td>51428500</td>\n",
       "    </tr>\n",
       "    <tr>\n",
       "      <th>2019-12-31 06:00:00</th>\n",
       "      <td>81.0</td>\n",
       "      <td>84.258003</td>\n",
       "      <td>80.416</td>\n",
       "      <td>83.666</td>\n",
       "      <td>83.666</td>\n",
       "      <td>51428500</td>\n",
       "    </tr>\n",
       "    <tr>\n",
       "      <th>2019-12-31 07:00:00</th>\n",
       "      <td>81.0</td>\n",
       "      <td>84.258003</td>\n",
       "      <td>80.416</td>\n",
       "      <td>83.666</td>\n",
       "      <td>83.666</td>\n",
       "      <td>51428500</td>\n",
       "    </tr>\n",
       "    <tr>\n",
       "      <th>2019-12-31 08:00:00</th>\n",
       "      <td>81.0</td>\n",
       "      <td>84.258003</td>\n",
       "      <td>80.416</td>\n",
       "      <td>83.666</td>\n",
       "      <td>83.666</td>\n",
       "      <td>51428500</td>\n",
       "    </tr>\n",
       "    <tr>\n",
       "      <th>2019-12-31 09:00:00</th>\n",
       "      <td>81.0</td>\n",
       "      <td>84.258003</td>\n",
       "      <td>80.416</td>\n",
       "      <td>83.666</td>\n",
       "      <td>83.666</td>\n",
       "      <td>51428500</td>\n",
       "    </tr>\n",
       "  </tbody>\n",
       "</table>\n",
       "</div>"
      ],
      "text/plain": [
       "                     Open       High     Low   Close  Adj Close    Volume\n",
       "Date                                                                     \n",
       "2019-12-31 00:00:00  81.0  84.258003  80.416  83.666     83.666  51428500\n",
       "2019-12-31 01:00:00  81.0  84.258003  80.416  83.666     83.666  51428500\n",
       "2019-12-31 02:00:00  81.0  84.258003  80.416  83.666     83.666  51428500\n",
       "2019-12-31 03:00:00  81.0  84.258003  80.416  83.666     83.666  51428500\n",
       "2019-12-31 04:00:00  81.0  84.258003  80.416  83.666     83.666  51428500\n",
       "2019-12-31 05:00:00  81.0  84.258003  80.416  83.666     83.666  51428500\n",
       "2019-12-31 06:00:00  81.0  84.258003  80.416  83.666     83.666  51428500\n",
       "2019-12-31 07:00:00  81.0  84.258003  80.416  83.666     83.666  51428500\n",
       "2019-12-31 08:00:00  81.0  84.258003  80.416  83.666     83.666  51428500\n",
       "2019-12-31 09:00:00  81.0  84.258003  80.416  83.666     83.666  51428500"
      ]
     },
     "execution_count": 32,
     "metadata": {},
     "output_type": "execute_result"
    }
   ],
   "source": [
    "# Adding  closing prices by hours\n",
    "hours=df2.asfreq(\"H\",\"pad\")\n",
    "hours.head(10)"
   ]
  },
  {
   "cell_type": "code",
   "execution_count": 16,
   "metadata": {},
   "outputs": [
    {
     "data": {
      "text/html": [
       "<div>\n",
       "<style scoped>\n",
       "    .dataframe tbody tr th:only-of-type {\n",
       "        vertical-align: middle;\n",
       "    }\n",
       "\n",
       "    .dataframe tbody tr th {\n",
       "        vertical-align: top;\n",
       "    }\n",
       "\n",
       "    .dataframe thead th {\n",
       "        text-align: right;\n",
       "    }\n",
       "</style>\n",
       "<table border=\"1\" class=\"dataframe\">\n",
       "  <thead>\n",
       "    <tr style=\"text-align: right;\">\n",
       "      <th></th>\n",
       "      <th>Open</th>\n",
       "      <th>High</th>\n",
       "      <th>Low</th>\n",
       "      <th>Close</th>\n",
       "      <th>Adj Close</th>\n",
       "      <th>Volume</th>\n",
       "    </tr>\n",
       "    <tr>\n",
       "      <th>Date</th>\n",
       "      <th></th>\n",
       "      <th></th>\n",
       "      <th></th>\n",
       "      <th></th>\n",
       "      <th></th>\n",
       "      <th></th>\n",
       "    </tr>\n",
       "  </thead>\n",
       "  <tbody>\n",
       "    <tr>\n",
       "      <th>2020-12-30 00:00:00</th>\n",
       "      <td>672.0</td>\n",
       "      <td>696.599976</td>\n",
       "      <td>668.359985</td>\n",
       "      <td>694.780029</td>\n",
       "      <td>694.780029</td>\n",
       "      <td>42846000</td>\n",
       "    </tr>\n",
       "    <tr>\n",
       "      <th>2020-12-30 01:00:00</th>\n",
       "      <td>672.0</td>\n",
       "      <td>696.599976</td>\n",
       "      <td>668.359985</td>\n",
       "      <td>694.780029</td>\n",
       "      <td>694.780029</td>\n",
       "      <td>42846000</td>\n",
       "    </tr>\n",
       "    <tr>\n",
       "      <th>2020-12-30 02:00:00</th>\n",
       "      <td>672.0</td>\n",
       "      <td>696.599976</td>\n",
       "      <td>668.359985</td>\n",
       "      <td>694.780029</td>\n",
       "      <td>694.780029</td>\n",
       "      <td>42846000</td>\n",
       "    </tr>\n",
       "    <tr>\n",
       "      <th>2020-12-30 03:00:00</th>\n",
       "      <td>672.0</td>\n",
       "      <td>696.599976</td>\n",
       "      <td>668.359985</td>\n",
       "      <td>694.780029</td>\n",
       "      <td>694.780029</td>\n",
       "      <td>42846000</td>\n",
       "    </tr>\n",
       "    <tr>\n",
       "      <th>2020-12-30 04:00:00</th>\n",
       "      <td>672.0</td>\n",
       "      <td>696.599976</td>\n",
       "      <td>668.359985</td>\n",
       "      <td>694.780029</td>\n",
       "      <td>694.780029</td>\n",
       "      <td>42846000</td>\n",
       "    </tr>\n",
       "    <tr>\n",
       "      <th>2020-12-30 05:00:00</th>\n",
       "      <td>672.0</td>\n",
       "      <td>696.599976</td>\n",
       "      <td>668.359985</td>\n",
       "      <td>694.780029</td>\n",
       "      <td>694.780029</td>\n",
       "      <td>42846000</td>\n",
       "    </tr>\n",
       "    <tr>\n",
       "      <th>2020-12-30 06:00:00</th>\n",
       "      <td>672.0</td>\n",
       "      <td>696.599976</td>\n",
       "      <td>668.359985</td>\n",
       "      <td>694.780029</td>\n",
       "      <td>694.780029</td>\n",
       "      <td>42846000</td>\n",
       "    </tr>\n",
       "    <tr>\n",
       "      <th>2020-12-30 07:00:00</th>\n",
       "      <td>672.0</td>\n",
       "      <td>696.599976</td>\n",
       "      <td>668.359985</td>\n",
       "      <td>694.780029</td>\n",
       "      <td>694.780029</td>\n",
       "      <td>42846000</td>\n",
       "    </tr>\n",
       "    <tr>\n",
       "      <th>2020-12-30 08:00:00</th>\n",
       "      <td>672.0</td>\n",
       "      <td>696.599976</td>\n",
       "      <td>668.359985</td>\n",
       "      <td>694.780029</td>\n",
       "      <td>694.780029</td>\n",
       "      <td>42846000</td>\n",
       "    </tr>\n",
       "    <tr>\n",
       "      <th>2020-12-30 09:00:00</th>\n",
       "      <td>672.0</td>\n",
       "      <td>696.599976</td>\n",
       "      <td>668.359985</td>\n",
       "      <td>694.780029</td>\n",
       "      <td>694.780029</td>\n",
       "      <td>42846000</td>\n",
       "    </tr>\n",
       "  </tbody>\n",
       "</table>\n",
       "</div>"
      ],
      "text/plain": [
       "                      Open        High         Low       Close   Adj Close  \\\n",
       "Date                                                                         \n",
       "2020-12-30 00:00:00  672.0  696.599976  668.359985  694.780029  694.780029   \n",
       "2020-12-30 01:00:00  672.0  696.599976  668.359985  694.780029  694.780029   \n",
       "2020-12-30 02:00:00  672.0  696.599976  668.359985  694.780029  694.780029   \n",
       "2020-12-30 03:00:00  672.0  696.599976  668.359985  694.780029  694.780029   \n",
       "2020-12-30 04:00:00  672.0  696.599976  668.359985  694.780029  694.780029   \n",
       "2020-12-30 05:00:00  672.0  696.599976  668.359985  694.780029  694.780029   \n",
       "2020-12-30 06:00:00  672.0  696.599976  668.359985  694.780029  694.780029   \n",
       "2020-12-30 07:00:00  672.0  696.599976  668.359985  694.780029  694.780029   \n",
       "2020-12-30 08:00:00  672.0  696.599976  668.359985  694.780029  694.780029   \n",
       "2020-12-30 09:00:00  672.0  696.599976  668.359985  694.780029  694.780029   \n",
       "\n",
       "                       Volume  \n",
       "Date                           \n",
       "2020-12-30 00:00:00  42846000  \n",
       "2020-12-30 01:00:00  42846000  \n",
       "2020-12-30 02:00:00  42846000  \n",
       "2020-12-30 03:00:00  42846000  \n",
       "2020-12-30 04:00:00  42846000  \n",
       "2020-12-30 05:00:00  42846000  \n",
       "2020-12-30 06:00:00  42846000  \n",
       "2020-12-30 07:00:00  42846000  \n",
       "2020-12-30 08:00:00  42846000  \n",
       "2020-12-30 09:00:00  42846000  "
      ]
     },
     "execution_count": 16,
     "metadata": {},
     "output_type": "execute_result"
    }
   ],
   "source": [
    "#Closing prices by hours in december 30th\n",
    "dec_30=hours[\"12/30/2020\":\"30/12/2021\"]\n",
    "dec_30.head(10)"
   ]
  },
  {
   "cell_type": "code",
   "execution_count": 17,
   "metadata": {
    "scrolled": false
   },
   "outputs": [
    {
     "data": {
      "image/png": "[encoded data removed]",
      "text/plain": [
       "<Figure size 720x288 with 1 Axes>"
      ]
     },
     "metadata": {
      "needs_background": "light"
     },
     "output_type": "display_data"
    }
   ],
   "source": [
    "#ploting closing price by hours on december 30th\n",
    "plt.figure(figsize=(10,4))\n",
    "plt.title(\"Close prices by hours on december 30th 2020 \")\n",
    "plt.plot(dec_30.Close)\n",
    "plt.xlabel(\"Date\")\n",
    "plt.ylabel(\"Close Price USD\")\n",
    "plt.show()"
   ]
  },
  {
   "cell_type": "markdown",
   "metadata": {},
   "source": [
    "### Resample "
   ]
  },
  {
   "cell_type": "code",
   "execution_count": 18,
   "metadata": {
    "scrolled": false
   },
   "outputs": [
    {
     "data": {
      "text/plain": [
       "Date\n",
       "2019-12-31    83.666000\n",
       "2020-01-01    83.666000\n",
       "2020-01-02    86.052002\n",
       "2020-01-03    88.601997\n",
       "2020-01-04    88.601997\n",
       "Freq: D, Name: Close, dtype: float64"
      ]
     },
     "execution_count": 18,
     "metadata": {},
     "output_type": "execute_result"
    }
   ],
   "source": [
    "#Calculating average close price by day using resample function\n",
    "days=df2.Close.resample(\"D\").mean()\n",
    "days.head()"
   ]
  },
  {
   "cell_type": "code",
   "execution_count": 19,
   "metadata": {},
   "outputs": [
    {
     "data": {
      "image/png": "[encoded data removed]",
      "text/plain": [
       "<Figure size 720x288 with 1 Axes>"
      ]
     },
     "metadata": {
      "needs_background": "light"
     },
     "output_type": "display_data"
    }
   ],
   "source": [
    "#ploting average closing price by days\n",
    "plt.figure(figsize=(10,4))\n",
    "plt.title(\"Average close prices by days\")\n",
    "plt.plot(days)\n",
    "plt.xlabel(\"Date\")\n",
    "plt.ylabel(\"Close Price USD\")\n",
    "plt.show()"
   ]
  },
  {
   "cell_type": "code",
   "execution_count": 20,
   "metadata": {
    "scrolled": true
   },
   "outputs": [
    {
     "data": {
      "text/plain": [
       "Date\n",
       "2020-01-05     86.531666\n",
       "2020-01-12     95.100855\n",
       "2020-01-19    103.607713\n",
       "2020-01-26    111.254857\n",
       "2020-02-02    122.812284\n",
       "Freq: W-SUN, Name: Close, dtype: float64"
      ]
     },
     "execution_count": 20,
     "metadata": {},
     "output_type": "execute_result"
    }
   ],
   "source": [
    "#Calculating average close price by weeks using resample function\n",
    "weeks=df2.Close.resample(\"W\").mean()\n",
    "weeks.head()"
   ]
  },
  {
   "cell_type": "code",
   "execution_count": 35,
   "metadata": {},
   "outputs": [
    {
     "data": {
      "image/png": "[encoded data removed]",
      "text/plain": [
       "<Figure size 720x288 with 1 Axes>"
      ]
     },
     "metadata": {
      "needs_background": "light"
     },
     "output_type": "display_data"
    }
   ],
   "source": [
    "#ploting average closing price by weeks \n",
    "plt.figure(figsize=(10,4))\n",
    "plt.title(\"Average closing prices by weeks in 2020 \")\n",
    "plt.plot(weeks)\n",
    "plt.xlabel(\"Date\")\n",
    "plt.ylabel(\"Close Price USD\")\n",
    "plt.show()"
   ]
  },
  {
   "cell_type": "markdown",
   "metadata": {},
   "source": [
    "### Adding date index into dataframe"
   ]
  },
  {
   "cell_type": "markdown",
   "metadata": {},
   "source": [
    "If we have data set that doesn't have date but we know start date and end date we can easily make a column with it."
   ]
  },
  {
   "cell_type": "code",
   "execution_count": 36,
   "metadata": {},
   "outputs": [],
   "source": [
    "apple=pd.read_csv(\"aapl_no_dates.csv\")"
   ]
  },
  {
   "cell_type": "code",
   "execution_count": 37,
   "metadata": {},
   "outputs": [
    {
     "data": {
      "text/html": [
       "<div>\n",
       "<style scoped>\n",
       "    .dataframe tbody tr th:only-of-type {\n",
       "        vertical-align: middle;\n",
       "    }\n",
       "\n",
       "    .dataframe tbody tr th {\n",
       "        vertical-align: top;\n",
       "    }\n",
       "\n",
       "    .dataframe thead th {\n",
       "        text-align: right;\n",
       "    }\n",
       "</style>\n",
       "<table border=\"1\" class=\"dataframe\">\n",
       "  <thead>\n",
       "    <tr style=\"text-align: right;\">\n",
       "      <th></th>\n",
       "      <th>Open</th>\n",
       "      <th>High</th>\n",
       "      <th>Low</th>\n",
       "      <th>Close</th>\n",
       "      <th>Volume</th>\n",
       "    </tr>\n",
       "  </thead>\n",
       "  <tbody>\n",
       "    <tr>\n",
       "      <th>0</th>\n",
       "      <td>144.88</td>\n",
       "      <td>145.30</td>\n",
       "      <td>143.10</td>\n",
       "      <td>143.50</td>\n",
       "      <td>14277848</td>\n",
       "    </tr>\n",
       "    <tr>\n",
       "      <th>1</th>\n",
       "      <td>143.69</td>\n",
       "      <td>144.79</td>\n",
       "      <td>142.72</td>\n",
       "      <td>144.09</td>\n",
       "      <td>21569557</td>\n",
       "    </tr>\n",
       "    <tr>\n",
       "      <th>2</th>\n",
       "      <td>143.02</td>\n",
       "      <td>143.50</td>\n",
       "      <td>142.41</td>\n",
       "      <td>142.73</td>\n",
       "      <td>24128782</td>\n",
       "    </tr>\n",
       "    <tr>\n",
       "      <th>3</th>\n",
       "      <td>142.90</td>\n",
       "      <td>144.75</td>\n",
       "      <td>142.90</td>\n",
       "      <td>144.18</td>\n",
       "      <td>19201712</td>\n",
       "    </tr>\n",
       "    <tr>\n",
       "      <th>4</th>\n",
       "      <td>144.11</td>\n",
       "      <td>145.95</td>\n",
       "      <td>143.37</td>\n",
       "      <td>145.06</td>\n",
       "      <td>21090636</td>\n",
       "    </tr>\n",
       "  </tbody>\n",
       "</table>\n",
       "</div>"
      ],
      "text/plain": [
       "     Open    High     Low   Close    Volume\n",
       "0  144.88  145.30  143.10  143.50  14277848\n",
       "1  143.69  144.79  142.72  144.09  21569557\n",
       "2  143.02  143.50  142.41  142.73  24128782\n",
       "3  142.90  144.75  142.90  144.18  19201712\n",
       "4  144.11  145.95  143.37  145.06  21090636"
      ]
     },
     "execution_count": 37,
     "metadata": {},
     "output_type": "execute_result"
    }
   ],
   "source": [
    "apple.head()"
   ]
  },
  {
   "cell_type": "code",
   "execution_count": 38,
   "metadata": {},
   "outputs": [],
   "source": [
    "# importing library\n",
    "from pandas.tseries.holiday import USFederalHolidayCalendar\n",
    "from pandas.tseries.offsets import CustomBusinessDay"
   ]
  },
  {
   "cell_type": "code",
   "execution_count": 39,
   "metadata": {},
   "outputs": [
    {
     "data": {
      "text/plain": [
       "DatetimeIndex(['2017-07-03', '2017-07-05', '2017-07-06', '2017-07-07',\n",
       "               '2017-07-10', '2017-07-11', '2017-07-12', '2017-07-13',\n",
       "               '2017-07-14', '2017-07-17', '2017-07-18', '2017-07-19',\n",
       "               '2017-07-20', '2017-07-21'],\n",
       "              dtype='datetime64[ns]', freq='C')"
      ]
     },
     "execution_count": 39,
     "metadata": {},
     "output_type": "execute_result"
    }
   ],
   "source": [
    "#Defining date range\n",
    "us_cal = CustomBusinessDay(calendar=USFederalHolidayCalendar())\n",
    "rng = pd.date_range(start=\"7/1/2017\",end=\"7/23/2017\", freq=us_cal)\n",
    "rng\n"
   ]
  },
  {
   "cell_type": "code",
   "execution_count": 40,
   "metadata": {},
   "outputs": [
    {
     "data": {
      "text/html": [
       "<div>\n",
       "<style scoped>\n",
       "    .dataframe tbody tr th:only-of-type {\n",
       "        vertical-align: middle;\n",
       "    }\n",
       "\n",
       "    .dataframe tbody tr th {\n",
       "        vertical-align: top;\n",
       "    }\n",
       "\n",
       "    .dataframe thead th {\n",
       "        text-align: right;\n",
       "    }\n",
       "</style>\n",
       "<table border=\"1\" class=\"dataframe\">\n",
       "  <thead>\n",
       "    <tr style=\"text-align: right;\">\n",
       "      <th></th>\n",
       "      <th>Open</th>\n",
       "      <th>High</th>\n",
       "      <th>Low</th>\n",
       "      <th>Close</th>\n",
       "      <th>Volume</th>\n",
       "    </tr>\n",
       "  </thead>\n",
       "  <tbody>\n",
       "    <tr>\n",
       "      <th>2017-07-03</th>\n",
       "      <td>144.88</td>\n",
       "      <td>145.30</td>\n",
       "      <td>143.10</td>\n",
       "      <td>143.50</td>\n",
       "      <td>14277848</td>\n",
       "    </tr>\n",
       "    <tr>\n",
       "      <th>2017-07-05</th>\n",
       "      <td>143.69</td>\n",
       "      <td>144.79</td>\n",
       "      <td>142.72</td>\n",
       "      <td>144.09</td>\n",
       "      <td>21569557</td>\n",
       "    </tr>\n",
       "    <tr>\n",
       "      <th>2017-07-06</th>\n",
       "      <td>143.02</td>\n",
       "      <td>143.50</td>\n",
       "      <td>142.41</td>\n",
       "      <td>142.73</td>\n",
       "      <td>24128782</td>\n",
       "    </tr>\n",
       "    <tr>\n",
       "      <th>2017-07-07</th>\n",
       "      <td>142.90</td>\n",
       "      <td>144.75</td>\n",
       "      <td>142.90</td>\n",
       "      <td>144.18</td>\n",
       "      <td>19201712</td>\n",
       "    </tr>\n",
       "    <tr>\n",
       "      <th>2017-07-10</th>\n",
       "      <td>144.11</td>\n",
       "      <td>145.95</td>\n",
       "      <td>143.37</td>\n",
       "      <td>145.06</td>\n",
       "      <td>21090636</td>\n",
       "    </tr>\n",
       "  </tbody>\n",
       "</table>\n",
       "</div>"
      ],
      "text/plain": [
       "              Open    High     Low   Close    Volume\n",
       "2017-07-03  144.88  145.30  143.10  143.50  14277848\n",
       "2017-07-05  143.69  144.79  142.72  144.09  21569557\n",
       "2017-07-06  143.02  143.50  142.41  142.73  24128782\n",
       "2017-07-07  142.90  144.75  142.90  144.18  19201712\n",
       "2017-07-10  144.11  145.95  143.37  145.06  21090636"
      ]
     },
     "execution_count": 40,
     "metadata": {},
     "output_type": "execute_result"
    }
   ],
   "source": [
    "#Setting defined date index into dataframe\n",
    "apple.set_index(rng,inplace=True)\n",
    "apple.head()"
   ]
  }
 ],
 "metadata": {
  "kernelspec": {
   "display_name": "Python 3",
   "language": "python",
   "name": "python3"
  },
  "language_info": {
   "codemirror_mode": {
    "name": "ipython",
    "version": 3
   },
   "file_extension": ".py",
   "mimetype": "text/x-python",
   "name": "python",
   "nbconvert_exporter": "python",
   "pygments_lexer": "ipython3",
   "version": "3.8.5"
  }
 },
 "nbformat": 4,
 "nbformat_minor": 4
}
