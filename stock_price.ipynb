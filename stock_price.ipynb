{
 "cells": [
  {
   "cell_type": "markdown",
   "metadata": {},
   "source": [
    "# Amazon stock price prediction "
   ]
  },
  {
   "cell_type": "markdown",
   "metadata": {},
   "source": [
    "In this project we are going to use artificial recurrent neural network called Long Short Term Memory (LSTM) to predict the closing price of a corporation (Amazon)."
   ]
  },
  {
   "cell_type": "code",
   "execution_count": 1,
   "metadata": {},
   "outputs": [],
   "source": [
    "#Importing libraries\n",
    "import yfinance as yf\n",
    "import pandas as pd\n",
    "import numpy as np\n",
    "import matplotlib.pyplot as plt\n",
    "import math"
   ]
  },
  {
   "cell_type": "code",
   "execution_count": 2,
   "metadata": {},
   "outputs": [
    {
     "name": "stdout",
     "output_type": "stream",
     "text": [
      "[*********************100%***********************]  1 of 1 completed\n"
     ]
    }
   ],
   "source": [
    "#Getting  Amazon data from yahoo finance\n",
    "df = yf.download(\"AMZN\", start=\"2012-10-01\", end=\"2021-02-20\")"
   ]
  },
  {
   "cell_type": "code",
   "execution_count": 3,
   "metadata": {},
   "outputs": [
    {
     "data": {
      "text/html": [
       "<div>\n",
       "<style scoped>\n",
       "    .dataframe tbody tr th:only-of-type {\n",
       "        vertical-align: middle;\n",
       "    }\n",
       "\n",
       "    .dataframe tbody tr th {\n",
       "        vertical-align: top;\n",
       "    }\n",
       "\n",
       "    .dataframe thead th {\n",
       "        text-align: right;\n",
       "    }\n",
       "</style>\n",
       "<table border=\"1\" class=\"dataframe\">\n",
       "  <thead>\n",
       "    <tr style=\"text-align: right;\">\n",
       "      <th></th>\n",
       "      <th>Open</th>\n",
       "      <th>High</th>\n",
       "      <th>Low</th>\n",
       "      <th>Close</th>\n",
       "      <th>Adj Close</th>\n",
       "      <th>Volume</th>\n",
       "    </tr>\n",
       "    <tr>\n",
       "      <th>Date</th>\n",
       "      <th></th>\n",
       "      <th></th>\n",
       "      <th></th>\n",
       "      <th></th>\n",
       "      <th></th>\n",
       "      <th></th>\n",
       "    </tr>\n",
       "  </thead>\n",
       "  <tbody>\n",
       "    <tr>\n",
       "      <th>2021-02-05</th>\n",
       "      <td>3319.000000</td>\n",
       "      <td>3377.000000</td>\n",
       "      <td>3302.709961</td>\n",
       "      <td>3352.149902</td>\n",
       "      <td>3352.149902</td>\n",
       "      <td>3613600</td>\n",
       "    </tr>\n",
       "    <tr>\n",
       "      <th>2021-02-08</th>\n",
       "      <td>3358.500000</td>\n",
       "      <td>3365.000000</td>\n",
       "      <td>3304.000000</td>\n",
       "      <td>3322.939941</td>\n",
       "      <td>3322.939941</td>\n",
       "      <td>3257400</td>\n",
       "    </tr>\n",
       "    <tr>\n",
       "      <th>2021-02-09</th>\n",
       "      <td>3312.489990</td>\n",
       "      <td>3338.000000</td>\n",
       "      <td>3297.840088</td>\n",
       "      <td>3305.000000</td>\n",
       "      <td>3305.000000</td>\n",
       "      <td>2203500</td>\n",
       "    </tr>\n",
       "    <tr>\n",
       "      <th>2021-02-10</th>\n",
       "      <td>3314.000000</td>\n",
       "      <td>3317.949951</td>\n",
       "      <td>3254.000000</td>\n",
       "      <td>3286.580078</td>\n",
       "      <td>3286.580078</td>\n",
       "      <td>3151600</td>\n",
       "    </tr>\n",
       "    <tr>\n",
       "      <th>2021-02-11</th>\n",
       "      <td>3292.000000</td>\n",
       "      <td>3292.000000</td>\n",
       "      <td>3248.060059</td>\n",
       "      <td>3262.129883</td>\n",
       "      <td>3262.129883</td>\n",
       "      <td>2295800</td>\n",
       "    </tr>\n",
       "    <tr>\n",
       "      <th>2021-02-12</th>\n",
       "      <td>3250.000000</td>\n",
       "      <td>3280.250000</td>\n",
       "      <td>3233.310059</td>\n",
       "      <td>3277.709961</td>\n",
       "      <td>3277.709961</td>\n",
       "      <td>2329300</td>\n",
       "    </tr>\n",
       "    <tr>\n",
       "      <th>2021-02-16</th>\n",
       "      <td>3254.050049</td>\n",
       "      <td>3308.300049</td>\n",
       "      <td>3253.590088</td>\n",
       "      <td>3268.949951</td>\n",
       "      <td>3268.949951</td>\n",
       "      <td>2563200</td>\n",
       "    </tr>\n",
       "    <tr>\n",
       "      <th>2021-02-17</th>\n",
       "      <td>3263.600098</td>\n",
       "      <td>3320.909912</td>\n",
       "      <td>3259.500000</td>\n",
       "      <td>3308.639893</td>\n",
       "      <td>3308.639893</td>\n",
       "      <td>3297500</td>\n",
       "    </tr>\n",
       "    <tr>\n",
       "      <th>2021-02-18</th>\n",
       "      <td>3282.419922</td>\n",
       "      <td>3338.000000</td>\n",
       "      <td>3273.939941</td>\n",
       "      <td>3328.229980</td>\n",
       "      <td>3328.229980</td>\n",
       "      <td>3027400</td>\n",
       "    </tr>\n",
       "    <tr>\n",
       "      <th>2021-02-19</th>\n",
       "      <td>3328.229980</td>\n",
       "      <td>3333.500000</td>\n",
       "      <td>3245.750000</td>\n",
       "      <td>3249.899902</td>\n",
       "      <td>3249.899902</td>\n",
       "      <td>4297200</td>\n",
       "    </tr>\n",
       "  </tbody>\n",
       "</table>\n",
       "</div>"
      ],
      "text/plain": [
       "                   Open         High          Low        Close    Adj Close  \\\n",
       "Date                                                                          \n",
       "2021-02-05  3319.000000  3377.000000  3302.709961  3352.149902  3352.149902   \n",
       "2021-02-08  3358.500000  3365.000000  3304.000000  3322.939941  3322.939941   \n",
       "2021-02-09  3312.489990  3338.000000  3297.840088  3305.000000  3305.000000   \n",
       "2021-02-10  3314.000000  3317.949951  3254.000000  3286.580078  3286.580078   \n",
       "2021-02-11  3292.000000  3292.000000  3248.060059  3262.129883  3262.129883   \n",
       "2021-02-12  3250.000000  3280.250000  3233.310059  3277.709961  3277.709961   \n",
       "2021-02-16  3254.050049  3308.300049  3253.590088  3268.949951  3268.949951   \n",
       "2021-02-17  3263.600098  3320.909912  3259.500000  3308.639893  3308.639893   \n",
       "2021-02-18  3282.419922  3338.000000  3273.939941  3328.229980  3328.229980   \n",
       "2021-02-19  3328.229980  3333.500000  3245.750000  3249.899902  3249.899902   \n",
       "\n",
       "             Volume  \n",
       "Date                 \n",
       "2021-02-05  3613600  \n",
       "2021-02-08  3257400  \n",
       "2021-02-09  2203500  \n",
       "2021-02-10  3151600  \n",
       "2021-02-11  2295800  \n",
       "2021-02-12  2329300  \n",
       "2021-02-16  2563200  \n",
       "2021-02-17  3297500  \n",
       "2021-02-18  3027400  \n",
       "2021-02-19  4297200  "
      ]
     },
     "execution_count": 3,
     "metadata": {},
     "output_type": "execute_result"
    }
   ],
   "source": [
    "df.tail(10)"
   ]
  },
  {
   "cell_type": "code",
   "execution_count": 4,
   "metadata": {
    "scrolled": true
   },
   "outputs": [
    {
     "data": {
      "text/plain": [
       "(2110, 6)"
      ]
     },
     "execution_count": 4,
     "metadata": {},
     "output_type": "execute_result"
    }
   ],
   "source": [
    "df.shape"
   ]
  },
  {
   "cell_type": "markdown",
   "metadata": {},
   "source": [
    "Column information:\n",
    "- Open and Close represent - the starting and final price at which the stock is traded on a particular day\n",
    "- High and Low - represent the maximum and minimum price of the share for the day\n",
    "- Volume -  is the number of shares bought or sold in the day"
   ]
  },
  {
   "cell_type": "markdown",
   "metadata": {},
   "source": [
    "## Visualizing"
   ]
  },
  {
   "cell_type": "code",
   "execution_count": 5,
   "metadata": {},
   "outputs": [
    {
     "data": {
      "image/png": "[encoded data removed]",
      "text/plain": [
       "<Figure size 1080x576 with 1 Axes>"
      ]
     },
     "metadata": {
      "needs_background": "light"
     },
     "output_type": "display_data"
    }
   ],
   "source": [
    "#ploting closing price history\n",
    "plt.figure(figsize=(15,8))\n",
    "plt.title(\"Close price history\")\n",
    "plt.plot(df[\"Close\"])\n",
    "plt.xlabel(\"Date\")\n",
    "plt.ylabel(\"Close Price USD\")\n",
    "plt.show()"
   ]
  },
  {
   "cell_type": "markdown",
   "metadata": {},
   "source": [
    "## Preparing data set"
   ]
  },
  {
   "cell_type": "code",
   "execution_count": 11,
   "metadata": {},
   "outputs": [
    {
     "data": {
      "text/html": [
       "<div>\n",
       "<style scoped>\n",
       "    .dataframe tbody tr th:only-of-type {\n",
       "        vertical-align: middle;\n",
       "    }\n",
       "\n",
       "    .dataframe tbody tr th {\n",
       "        vertical-align: top;\n",
       "    }\n",
       "\n",
       "    .dataframe thead th {\n",
       "        text-align: right;\n",
       "    }\n",
       "</style>\n",
       "<table border=\"1\" class=\"dataframe\">\n",
       "  <thead>\n",
       "    <tr style=\"text-align: right;\">\n",
       "      <th></th>\n",
       "      <th>Close</th>\n",
       "    </tr>\n",
       "    <tr>\n",
       "      <th>Date</th>\n",
       "      <th></th>\n",
       "    </tr>\n",
       "  </thead>\n",
       "  <tbody>\n",
       "    <tr>\n",
       "      <th>2012-10-01</th>\n",
       "      <td>252.009995</td>\n",
       "    </tr>\n",
       "    <tr>\n",
       "      <th>2012-10-02</th>\n",
       "      <td>250.600006</td>\n",
       "    </tr>\n",
       "    <tr>\n",
       "      <th>2012-10-03</th>\n",
       "      <td>255.919998</td>\n",
       "    </tr>\n",
       "    <tr>\n",
       "      <th>2012-10-04</th>\n",
       "      <td>260.470001</td>\n",
       "    </tr>\n",
       "    <tr>\n",
       "      <th>2012-10-05</th>\n",
       "      <td>258.510010</td>\n",
       "    </tr>\n",
       "    <tr>\n",
       "      <th>...</th>\n",
       "      <td>...</td>\n",
       "    </tr>\n",
       "    <tr>\n",
       "      <th>2021-02-12</th>\n",
       "      <td>3277.709961</td>\n",
       "    </tr>\n",
       "    <tr>\n",
       "      <th>2021-02-16</th>\n",
       "      <td>3268.949951</td>\n",
       "    </tr>\n",
       "    <tr>\n",
       "      <th>2021-02-17</th>\n",
       "      <td>3308.639893</td>\n",
       "    </tr>\n",
       "    <tr>\n",
       "      <th>2021-02-18</th>\n",
       "      <td>3328.229980</td>\n",
       "    </tr>\n",
       "    <tr>\n",
       "      <th>2021-02-19</th>\n",
       "      <td>3249.899902</td>\n",
       "    </tr>\n",
       "  </tbody>\n",
       "</table>\n",
       "<p>2110 rows × 1 columns</p>\n",
       "</div>"
      ],
      "text/plain": [
       "                  Close\n",
       "Date                   \n",
       "2012-10-01   252.009995\n",
       "2012-10-02   250.600006\n",
       "2012-10-03   255.919998\n",
       "2012-10-04   260.470001\n",
       "2012-10-05   258.510010\n",
       "...                 ...\n",
       "2021-02-12  3277.709961\n",
       "2021-02-16  3268.949951\n",
       "2021-02-17  3308.639893\n",
       "2021-02-18  3328.229980\n",
       "2021-02-19  3249.899902\n",
       "\n",
       "[2110 rows x 1 columns]"
      ]
     },
     "execution_count": 11,
     "metadata": {},
     "output_type": "execute_result"
    }
   ],
   "source": [
    "#Creating dataframe with only Close colum\n",
    "data=df.filter([\"Close\"])\n",
    "data"
   ]
  },
  {
   "cell_type": "code",
   "execution_count": 12,
   "metadata": {
    "scrolled": true
   },
   "outputs": [
    {
     "data": {
      "text/plain": [
       "array([[ 252.00999451],\n",
       "       [ 250.6000061 ],\n",
       "       [ 255.91999817],\n",
       "       ...,\n",
       "       [3308.63989258],\n",
       "       [3328.22998047],\n",
       "       [3249.89990234]])"
      ]
     },
     "execution_count": 12,
     "metadata": {},
     "output_type": "execute_result"
    }
   ],
   "source": [
    "#Converting into numpy array\n",
    "dataset=data.values\n",
    "dataset"
   ]
  },
  {
   "cell_type": "code",
   "execution_count": 22,
   "metadata": {},
   "outputs": [
    {
     "data": {
      "text/plain": [
       "1688"
      ]
     },
     "execution_count": 22,
     "metadata": {},
     "output_type": "execute_result"
    }
   ],
   "source": [
    "#lenght of training dataset\n",
    "training_data_len=math.ceil(len(dataset)*0.8)\n",
    "training_data_len"
   ]
  },
  {
   "cell_type": "markdown",
   "metadata": {},
   "source": [
    "## Scaling data"
   ]
  },
  {
   "cell_type": "code",
   "execution_count": 23,
   "metadata": {},
   "outputs": [],
   "source": [
    "# min-max scaling\n",
    "from sklearn.preprocessing import MinMaxScaler, RobustScaler"
   ]
  },
  {
   "cell_type": "code",
   "execution_count": 24,
   "metadata": {},
   "outputs": [],
   "source": [
    "scaler=MinMaxScaler()"
   ]
  },
  {
   "cell_type": "code",
   "execution_count": 25,
   "metadata": {},
   "outputs": [
    {
     "data": {
      "text/plain": [
       "array([[0.00948699],\n",
       "       [0.00906112],\n",
       "       [0.01066795],\n",
       "       ...,\n",
       "       [0.93270306],\n",
       "       [0.93862   ],\n",
       "       [0.9149614 ]])"
      ]
     },
     "execution_count": 25,
     "metadata": {},
     "output_type": "execute_result"
    }
   ],
   "source": [
    "scaled_data=scaler.fit_transform(dataset)\n",
    "scaled_data"
   ]
  },
  {
   "cell_type": "code",
   "execution_count": 26,
   "metadata": {},
   "outputs": [
    {
     "data": {
      "text/plain": [
       "1688"
      ]
     },
     "execution_count": 26,
     "metadata": {},
     "output_type": "execute_result"
    }
   ],
   "source": [
    "#Creating training data set\n",
    "train_data=scaled_data[0:training_data_len,:]\n",
    "len(train_data)"
   ]
  },
  {
   "cell_type": "code",
   "execution_count": 30,
   "metadata": {
    "scrolled": true
   },
   "outputs": [
    {
     "name": "stdout",
     "output_type": "stream",
     "text": [
      "[array([0.00948699, 0.00906112, 0.01066795, 0.01204222, 0.01145023,\n",
      "       0.01161635, 0.00916985, 0.00736669, 0.00713412, 0.00657233,\n",
      "       0.00712203, 0.00704955, 0.00812178, 0.0073244 , 0.00585952,\n",
      "       0.00398085, 0.00414093, 0.00238307, 0.00070072, 0.00532794,\n",
      "       0.00371204, 0.00348551, 0.00357008, 0.00414697, 0.00512255,\n",
      "       0.00346134, 0.00203875, 0.00172463, 0.00177296, 0.00181222,\n",
      "       0.00070978, 0.        , 0.00139843, 0.00275156, 0.00398085,\n",
      "       0.00526451, 0.00582328, 0.00695289, 0.00688645, 0.00800701,\n",
      "       0.00926348, 0.00949907, 0.00897957, 0.00963197, 0.01007596,\n",
      "       0.00989776, 0.00986756, 0.00820635, 0.0090883 , 0.00941148,\n",
      "       0.00925744, 0.00863524, 0.01004576, 0.01202108, 0.01129317,\n",
      "       0.01235332, 0.01096999, 0.01148345, 0.0084661 , 0.00836945])]\n",
      "[0.007424071455995315]\n",
      "\n",
      "[array([0.00948699, 0.00906112, 0.01066795, 0.01204222, 0.01145023,\n",
      "       0.01161635, 0.00916985, 0.00736669, 0.00713412, 0.00657233,\n",
      "       0.00712203, 0.00704955, 0.00812178, 0.0073244 , 0.00585952,\n",
      "       0.00398085, 0.00414093, 0.00238307, 0.00070072, 0.00532794,\n",
      "       0.00371204, 0.00348551, 0.00357008, 0.00414697, 0.00512255,\n",
      "       0.00346134, 0.00203875, 0.00172463, 0.00177296, 0.00181222,\n",
      "       0.00070978, 0.        , 0.00139843, 0.00275156, 0.00398085,\n",
      "       0.00526451, 0.00582328, 0.00695289, 0.00688645, 0.00800701,\n",
      "       0.00926348, 0.00949907, 0.00897957, 0.00963197, 0.01007596,\n",
      "       0.00989776, 0.00986756, 0.00820635, 0.0090883 , 0.00941148,\n",
      "       0.00925744, 0.00863524, 0.01004576, 0.01202108, 0.01129317,\n",
      "       0.01235332, 0.01096999, 0.01148345, 0.0084661 , 0.00836945]), array([0.00906112, 0.01066795, 0.01204222, 0.01145023, 0.01161635,\n",
      "       0.00916985, 0.00736669, 0.00713412, 0.00657233, 0.00712203,\n",
      "       0.00704955, 0.00812178, 0.0073244 , 0.00585952, 0.00398085,\n",
      "       0.00414093, 0.00238307, 0.00070072, 0.00532794, 0.00371204,\n",
      "       0.00348551, 0.00357008, 0.00414697, 0.00512255, 0.00346134,\n",
      "       0.00203875, 0.00172463, 0.00177296, 0.00181222, 0.00070978,\n",
      "       0.        , 0.00139843, 0.00275156, 0.00398085, 0.00526451,\n",
      "       0.00582328, 0.00695289, 0.00688645, 0.00800701, 0.00926348,\n",
      "       0.00949907, 0.00897957, 0.00963197, 0.01007596, 0.00989776,\n",
      "       0.00986756, 0.00820635, 0.0090883 , 0.00941148, 0.00925744,\n",
      "       0.00863524, 0.01004576, 0.01202108, 0.01129317, 0.01235332,\n",
      "       0.01096999, 0.01148345, 0.0084661 , 0.00836945, 0.00742407])]\n",
      "[0.007424071455995315, 0.00914266412428634]\n",
      "\n"
     ]
    }
   ],
   "source": [
    "#Splitting data on train_X and train_y data sets\n",
    "train_X=[]\n",
    "train_y=[]\n",
    "\n",
    "for i in range(60,len(train_data)):\n",
    "    train_X.append(train_data[i-60:i,0]) #train_X will contain 60 values from index 0 to 59\n",
    "    train_y.append(train_data[i,0])  # train_y will contain every 61st value which is value we want to predict\n",
    "    if i<=61:\n",
    "     print(train_X)\n",
    "     print(train_y)\n",
    "     print()"
   ]
  },
  {
   "cell_type": "markdown",
   "metadata": {},
   "source": [
    "Last two values [0.007424071455995315, 0.00914266412428634] are train_y and the rest are train_X."
   ]
  },
  {
   "cell_type": "code",
   "execution_count": 31,
   "metadata": {},
   "outputs": [],
   "source": [
    "#Converting to numpy array\n",
    "train_X,train_y=np.array(train_X),np.array(train_y)"
   ]
  },
  {
   "cell_type": "code",
   "execution_count": 32,
   "metadata": {},
   "outputs": [],
   "source": [
    "#Reshape the data (we have 2D data and we need 3D for LSTM)\n",
    "train_X=np.reshape(train_X,(train_X.shape[0],train_X.shape[1],1))"
   ]
  },
  {
   "cell_type": "code",
   "execution_count": 33,
   "metadata": {},
   "outputs": [
    {
     "data": {
      "text/plain": [
       "(1628, 60, 1)"
      ]
     },
     "execution_count": 33,
     "metadata": {},
     "output_type": "execute_result"
    }
   ],
   "source": [
    "train_X.shape"
   ]
  },
  {
   "cell_type": "markdown",
   "metadata": {},
   "source": [
    "## Building model"
   ]
  },
  {
   "cell_type": "code",
   "execution_count": 34,
   "metadata": {},
   "outputs": [],
   "source": [
    "# import tensorflow libraries\n",
    "from tensorflow.keras.models import Sequential\n",
    "from tensorflow.keras.layers import Dense,LSTM"
   ]
  },
  {
   "cell_type": "code",
   "execution_count": 36,
   "metadata": {},
   "outputs": [],
   "source": [
    "# LSTM model\n",
    "model=Sequential()\n",
    "model.add(LSTM(50,return_sequences=True, input_shape=(train_X.shape[1],1)))\n",
    "model.add(LSTM(50,return_sequences=False))\n",
    "model.add(Dense(25))\n",
    "model.add(Dense(1))"
   ]
  },
  {
   "cell_type": "code",
   "execution_count": 37,
   "metadata": {},
   "outputs": [],
   "source": [
    "# Compile model\n",
    "model.compile(optimizer=\"adam\",loss=\"mse\")"
   ]
  },
  {
   "cell_type": "code",
   "execution_count": 57,
   "metadata": {},
   "outputs": [
    {
     "name": "stdout",
     "output_type": "stream",
     "text": [
      "Epoch 1/20\n",
      "326/326 [==============================] - 35s 109ms/step - loss: 1.0289e-04\n",
      "Epoch 2/20\n",
      "326/326 [==============================] - 34s 105ms/step - loss: 1.0801e-04\n",
      "Epoch 3/20\n",
      "326/326 [==============================] - 38s 117ms/step - loss: 1.0274e-04\n",
      "Epoch 4/20\n",
      "326/326 [==============================] - 37s 115ms/step - loss: 9.3673e-05\n",
      "Epoch 5/20\n",
      "326/326 [==============================] - 43s 133ms/step - loss: 8.4276e-05\n",
      "Epoch 6/20\n",
      "326/326 [==============================] - 40s 121ms/step - loss: 9.0206e-05\n",
      "Epoch 7/20\n",
      "326/326 [==============================] - 39s 120ms/step - loss: 7.9054e-05\n",
      "Epoch 8/20\n",
      "326/326 [==============================] - 42s 129ms/step - loss: 6.8556e-05\n",
      "Epoch 9/20\n",
      "326/326 [==============================] - 51s 157ms/step - loss: 8.6826e-05\n",
      "Epoch 10/20\n",
      "326/326 [==============================] - 46s 140ms/step - loss: 8.3048e-05\n",
      "Epoch 11/20\n",
      "326/326 [==============================] - 46s 141ms/step - loss: 7.7665e-05\n",
      "Epoch 12/20\n",
      "326/326 [==============================] - 48s 148ms/step - loss: 6.0453e-05\n",
      "Epoch 13/20\n",
      "326/326 [==============================] - 46s 140ms/step - loss: 6.5873e-05\n",
      "Epoch 14/20\n",
      "326/326 [==============================] - 46s 140ms/step - loss: 7.8957e-05\n",
      "Epoch 15/20\n",
      "326/326 [==============================] - 43s 131ms/step - loss: 5.9113e-05\n",
      "Epoch 16/20\n",
      "326/326 [==============================] - 41s 125ms/step - loss: 5.8759e-05\n",
      "Epoch 17/20\n",
      "326/326 [==============================] - 42s 128ms/step - loss: 6.1883e-05\n",
      "Epoch 18/20\n",
      "326/326 [==============================] - 47s 143ms/step - loss: 5.3095e-05\n",
      "Epoch 19/20\n",
      "326/326 [==============================] - 45s 137ms/step - loss: 6.5856e-05\n",
      "Epoch 20/20\n",
      "326/326 [==============================] - 43s 133ms/step - loss: 5.9606e-05\n"
     ]
    },
    {
     "data": {
      "text/plain": [
       "<tensorflow.python.keras.callbacks.History at 0x7f15150ebcd0>"
      ]
     },
     "execution_count": 57,
     "metadata": {},
     "output_type": "execute_result"
    }
   ],
   "source": [
    "#Fitting model\n",
    "model.fit(train_X,train_y,batch_size=5,epochs=20)"
   ]
  },
  {
   "cell_type": "code",
   "execution_count": 58,
   "metadata": {},
   "outputs": [],
   "source": [
    "#Creating test_data set(from index 1628 to 2110)\n",
    "test_data=scaled_data[training_data_len-60:,:]"
   ]
  },
  {
   "cell_type": "code",
   "execution_count": 59,
   "metadata": {},
   "outputs": [],
   "source": [
    "#Creating test_X and test_y\n",
    "test_X=[]\n",
    "test_y=dataset[training_data_len:,:] #contain actual values (61st values)\n",
    "\n",
    "for i in range(60,len(test_data)):\n",
    "    test_X.append(test_data[i-60:i,0]) #train_X will contain 60 values from index 0 to 59\n"
   ]
  },
  {
   "cell_type": "code",
   "execution_count": 60,
   "metadata": {},
   "outputs": [],
   "source": [
    "test_X=np.array(test_X)"
   ]
  },
  {
   "cell_type": "code",
   "execution_count": 61,
   "metadata": {},
   "outputs": [],
   "source": [
    "test_X=np.reshape(test_X,(test_X.shape[0],test_X.shape[1],1))"
   ]
  },
  {
   "cell_type": "code",
   "execution_count": 63,
   "metadata": {},
   "outputs": [],
   "source": [
    "#get the models  predicted price\n",
    "predictions=model.predict(test_X)\n",
    "#transforming price to unscaled values\n",
    "predictions=scaler.inverse_transform(predictions)"
   ]
  },
  {
   "cell_type": "markdown",
   "metadata": {},
   "source": [
    "### Calculating root mean squared error"
   ]
  },
  {
   "cell_type": "code",
   "execution_count": 65,
   "metadata": {},
   "outputs": [
    {
     "data": {
      "text/plain": [
       "6.008064161544728"
      ]
     },
     "execution_count": 65,
     "metadata": {},
     "output_type": "execute_result"
    }
   ],
   "source": [
    "rmse=np.sqrt(np.mean(predictions-test_y)**2)\n",
    "rmse"
   ]
  },
  {
   "cell_type": "markdown",
   "metadata": {},
   "source": [
    "Our model have only 6 RMSE. Since the best RMSE is equal to 0  we can say that our model did a good job."
   ]
  },
  {
   "cell_type": "code",
   "execution_count": 87,
   "metadata": {},
   "outputs": [
    {
     "name": "stderr",
     "output_type": "stream",
     "text": [
      "<ipython-input-87-cd5f9eff2a36>:4: SettingWithCopyWarning: \n",
      "A value is trying to be set on a copy of a slice from a DataFrame.\n",
      "Try using .loc[row_indexer,col_indexer] = value instead\n",
      "\n",
      "See the caveats in the documentation: https://pandas.pydata.org/pandas-docs/stable/user_guide/indexing.html#returning-a-view-versus-a-copy\n",
      "  valid[\"Predictions\"]=predictions\n"
     ]
    },
    {
     "data": {
      "image/png": "[encoded data removed]",
      "text/plain": [
       "<Figure size 864x576 with 1 Axes>"
      ]
     },
     "metadata": {
      "needs_background": "light"
     },
     "output_type": "display_data"
    }
   ],
   "source": [
    "#Ploting\n",
    "train=data[:training_data_len]\n",
    "valid=data[training_data_len:]\n",
    "valid[\"Predictions\"]=predictions\n",
    "\n",
    "plt.figure(figsize=(12,8))\n",
    "plt.title(\"Model\")\n",
    "plt.xlabel(\"Date\")\n",
    "plt.ylabel(\"Close price USD\")\n",
    "plt.plot(train[\"Close\"])\n",
    "plt.plot(valid[[\"Close\",\"Predictions\"]])\n",
    "plt.legend([\"train\",\"valid\",\"predicted\"],loc=\"lower right\")\n",
    "plt.show()"
   ]
  },
  {
   "cell_type": "markdown",
   "metadata": {},
   "source": [
    "# Results"
   ]
  },
  {
   "cell_type": "code",
   "execution_count": 67,
   "metadata": {},
   "outputs": [
    {
     "data": {
      "text/html": [
       "<div>\n",
       "<style scoped>\n",
       "    .dataframe tbody tr th:only-of-type {\n",
       "        vertical-align: middle;\n",
       "    }\n",
       "\n",
       "    .dataframe tbody tr th {\n",
       "        vertical-align: top;\n",
       "    }\n",
       "\n",
       "    .dataframe thead th {\n",
       "        text-align: right;\n",
       "    }\n",
       "</style>\n",
       "<table border=\"1\" class=\"dataframe\">\n",
       "  <thead>\n",
       "    <tr style=\"text-align: right;\">\n",
       "      <th></th>\n",
       "      <th>Close</th>\n",
       "      <th>Predictions</th>\n",
       "    </tr>\n",
       "    <tr>\n",
       "      <th>Date</th>\n",
       "      <th></th>\n",
       "      <th></th>\n",
       "    </tr>\n",
       "  </thead>\n",
       "  <tbody>\n",
       "    <tr>\n",
       "      <th>2019-06-19</th>\n",
       "      <td>1908.790039</td>\n",
       "      <td>1925.948975</td>\n",
       "    </tr>\n",
       "    <tr>\n",
       "      <th>2019-06-20</th>\n",
       "      <td>1918.189941</td>\n",
       "      <td>1932.585205</td>\n",
       "    </tr>\n",
       "    <tr>\n",
       "      <th>2019-06-21</th>\n",
       "      <td>1911.300049</td>\n",
       "      <td>1941.804565</td>\n",
       "    </tr>\n",
       "    <tr>\n",
       "      <th>2019-06-24</th>\n",
       "      <td>1913.900024</td>\n",
       "      <td>1934.268311</td>\n",
       "    </tr>\n",
       "    <tr>\n",
       "      <th>2019-06-25</th>\n",
       "      <td>1878.270020</td>\n",
       "      <td>1937.053223</td>\n",
       "    </tr>\n",
       "    <tr>\n",
       "      <th>...</th>\n",
       "      <td>...</td>\n",
       "      <td>...</td>\n",
       "    </tr>\n",
       "    <tr>\n",
       "      <th>2021-02-12</th>\n",
       "      <td>3277.709961</td>\n",
       "      <td>3231.114258</td>\n",
       "    </tr>\n",
       "    <tr>\n",
       "      <th>2021-02-16</th>\n",
       "      <td>3268.949951</td>\n",
       "      <td>3257.842773</td>\n",
       "    </tr>\n",
       "    <tr>\n",
       "      <th>2021-02-17</th>\n",
       "      <td>3308.639893</td>\n",
       "      <td>3239.580322</td>\n",
       "    </tr>\n",
       "    <tr>\n",
       "      <th>2021-02-18</th>\n",
       "      <td>3328.229980</td>\n",
       "      <td>3296.848633</td>\n",
       "    </tr>\n",
       "    <tr>\n",
       "      <th>2021-02-19</th>\n",
       "      <td>3249.899902</td>\n",
       "      <td>3306.968506</td>\n",
       "    </tr>\n",
       "  </tbody>\n",
       "</table>\n",
       "<p>422 rows × 2 columns</p>\n",
       "</div>"
      ],
      "text/plain": [
       "                  Close  Predictions\n",
       "Date                                \n",
       "2019-06-19  1908.790039  1925.948975\n",
       "2019-06-20  1918.189941  1932.585205\n",
       "2019-06-21  1911.300049  1941.804565\n",
       "2019-06-24  1913.900024  1934.268311\n",
       "2019-06-25  1878.270020  1937.053223\n",
       "...                 ...          ...\n",
       "2021-02-12  3277.709961  3231.114258\n",
       "2021-02-16  3268.949951  3257.842773\n",
       "2021-02-17  3308.639893  3239.580322\n",
       "2021-02-18  3328.229980  3296.848633\n",
       "2021-02-19  3249.899902  3306.968506\n",
       "\n",
       "[422 rows x 2 columns]"
      ]
     },
     "execution_count": 67,
     "metadata": {},
     "output_type": "execute_result"
    }
   ],
   "source": [
    "valid"
   ]
  },
  {
   "cell_type": "markdown",
   "metadata": {},
   "source": [
    "### Predicting stock price on 19.2.2021. based on last 60 days closing price"
   ]
  },
  {
   "cell_type": "code",
   "execution_count": 75,
   "metadata": {},
   "outputs": [
    {
     "name": "stdout",
     "output_type": "stream",
     "text": [
      "[*********************100%***********************]  1 of 1 completed\n"
     ]
    }
   ],
   "source": [
    "amazon = yf.download(\"AMZN\", start=\"2012-10-01\", end=\"2021-02-20\")"
   ]
  },
  {
   "cell_type": "code",
   "execution_count": 76,
   "metadata": {},
   "outputs": [
    {
     "name": "stdout",
     "output_type": "stream",
     "text": [
      "[[3207.1128]]\n"
     ]
    }
   ],
   "source": [
    "#New dataframe\n",
    "new_data=amazon.filter([\"Close\"])\n",
    "\n",
    "#Get last 60 day closing price\n",
    "last_60=new_data[-60:].values\n",
    "\n",
    "#Scaling data\n",
    "scaled_last_60=scaler.transform(last_60)\n",
    "\n",
    "#Creating test_X\n",
    "test_X=[]\n",
    "test_X.append(scaled_last_60)\n",
    "test_X=np.array(test_X)\n",
    "\n",
    "#Reshaping\n",
    "test_X=np.reshape(test_X,(test_X.shape[0],test_X.shape[1],1))\n",
    "\n",
    "#Predicting price\n",
    "pred_price=model.predict(test_X)\n",
    "\n",
    "#unscaling values \n",
    "pred_price=scaler.inverse_transform(pred_price)\n",
    "print(pred_price)"
   ]
  },
  {
   "cell_type": "code",
   "execution_count": 83,
   "metadata": {},
   "outputs": [
    {
     "name": "stdout",
     "output_type": "stream",
     "text": [
      "[*********************100%***********************]  1 of 1 completed\n",
      "Date\n",
      "2021-02-19    3249.899902\n",
      "Name: Close, dtype: float64\n"
     ]
    }
   ],
   "source": [
    "amazon = yf.download(\"AMZN\", start=\"2021-02-20\", end=\"2021-02-20\")\n",
    "print(amazon[\"Close\"][:1])"
   ]
  },
  {
   "cell_type": "markdown",
   "metadata": {},
   "source": [
    "We can see that our model predict close price 32017.11 USD on 19.02.2021   and  actual  price on 19.02.2021. is 3249.89 USD which is pretty close."
   ]
  }
 ],
 "metadata": {
  "kernelspec": {
   "display_name": "Python 3",
   "language": "python",
   "name": "python3"
  },
  "language_info": {
   "codemirror_mode": {
    "name": "ipython",
    "version": 3
   },
   "file_extension": ".py",
   "mimetype": "text/x-python",
   "name": "python",
   "nbconvert_exporter": "python",
   "pygments_lexer": "ipython3",
   "version": "3.8.5"
  }
 },
 "nbformat": 4,
 "nbformat_minor": 4
}
